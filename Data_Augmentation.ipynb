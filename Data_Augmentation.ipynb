{
 "cells": [
  {
   "cell_type": "code",
   "execution_count": 19,
   "metadata": {},
   "outputs": [],
   "source": [
    "from keras.preprocessing.image import ImageDataGenerator,array_to_img, img_to_array, load_img \n",
    "\n",
    "# Initialising the ImageDataGenerator class. \n",
    "# We will pass in the augmentation parameters in the constructor. \n",
    "data = ImageDataGenerator( \n",
    "    rotation_range = 40, \n",
    "    shear_range = 0.2, \n",
    "    zoom_range = 0.2, \n",
    "    horizontal_flip = True, \n",
    "    brightness_range = (0.5, 1.5)) \n",
    "    \n",
    "# Loading a sample image \n",
    "img = load_img('/Users/rahulbadhan/Desktop/a4.jpeg')\n",
    "# Converting the input sample image to an array \n",
    "x = img_to_array(img) \n",
    "# Reshaping the input image \n",
    "x = x.reshape((1, ) + x.shape) \n",
    "\n",
    "# Generating and saving 100   125 augmented samples \n",
    "# using the above defined parameters. \n",
    "i = 0\n",
    "for batch in data.flow(x, batch_size = 1, \n",
    "                          save_to_dir ='/Users/rahulbadhan/Desktop/ai_coding_test-main/dataset/val/apple/', \n",
    "                          save_prefix ='val_image3', save_format ='png'): \n",
    "    i += 1\n",
    "    if i > 200: \n",
    "        break\n"
   ]
  },
  {
   "cell_type": "code",
   "execution_count": null,
   "metadata": {},
   "outputs": [],
   "source": []
  }
 ],
 "metadata": {
  "kernelspec": {
   "display_name": "Python 3",
   "language": "python",
   "name": "python3"
  },
  "language_info": {
   "codemirror_mode": {
    "name": "ipython",
    "version": 3
   },
   "file_extension": ".py",
   "mimetype": "text/x-python",
   "name": "python",
   "nbconvert_exporter": "python",
   "pygments_lexer": "ipython3",
   "version": "3.8.5"
  }
 },
 "nbformat": 4,
 "nbformat_minor": 4
}
